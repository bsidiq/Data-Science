{
 "cells": [
  {
   "cell_type": "code",
   "execution_count": 27,
   "id": "c45ad35c",
   "metadata": {
    "deletable": false,
    "editable": false
   },
   "outputs": [],
   "source": [
    "# Initialize Otter\n",
    "import otter\n",
    "grader = otter.Notebook(\"hw07.ipynb\")"
   ]
  },
  {
   "cell_type": "markdown",
   "id": "2b4c6d19",
   "metadata": {},
   "source": [
    "# Homework 7: Testing Hypotheses\n",
    "\n",
    "Please complete this notebook by filling in the cells provided. Before you begin, execute the previous cell to load the provided tests."
   ]
  },
  {
   "cell_type": "markdown",
   "id": "bce72651",
   "metadata": {},
   "source": [
    "**Helpful Resource:**\n",
    "\n",
    "- [Python Reference](http://data8.org/sp22/python-reference.html): Cheat sheet of helpful array & table methods used in Data 8!\n",
    "\n",
    "**Recommended Readings**: \n",
    "\n",
    "* [Sampling Methods Guide](https://drive.google.com/file/d/1UtNdxDdI5XphWvwgTjODiAUFwArpZtoK/view)\n",
    "* [Testing Hypotheses](https://www.inferentialthinking.com/chapters/11/Testing_Hypotheses.html)\n",
    "* [A/B Testing](https://inferentialthinking.com/chapters/12/1/AB_Testing.html)"
   ]
  },
  {
   "cell_type": "markdown",
   "id": "b6048f72",
   "metadata": {},
   "source": [
    "Please complete this notebook by filling in the cells provided. Before you begin, execute the following cell to setup the notebook by importing some helpful libraries. Each time you start your server, you will need to execute this cell again.\n",
    "\n",
    "For all problems that you must write explanations and sentences for, you **must** provide your answer in the designated space. **Moreover, throughout this homework and all future ones, please be sure to not re-assign variables throughout the notebook!** For example, if you use `max_temperature` in your answer to one question, do not reassign it later on. Otherwise, you will fail tests that you thought you were passing previously!\n",
    "\n",
    "**Deadline:**\n",
    "\n",
    "This assignment is due Thursday, 3/10 at 11:59pm PT. Turn it in by Wednesday, 3/9 at 11:59pm PT for 5 extra credit points. Late work will not be accepted as per the [policies](http://data8.org/sp22/policies.html) page.\n",
    "\n",
    "\n",
    "**Note: This homework has hidden tests on it. That means even though tests may say 100% passed, it doesn't mean your final grade will be 100%. We will be running more tests for correctness once everyone turns in the homework.**\n",
    "\n",
    "\n",
    "Directly sharing answers is not okay, but discussing problems with the course staff or with other students is encouraged. Refer to the policies page to learn more about how to learn cooperatively.\n",
    "\n",
    "You should start early so that you have time to get help if you're stuck. Office hours are held Tuesday through Friday. The schedule appears on [http://data8.org/sp22/office-hours.html](http://data8.org/sp22/office-hours.html)."
   ]
  },
  {
   "cell_type": "code",
   "execution_count": 28,
   "id": "49bd816f",
   "metadata": {},
   "outputs": [],
   "source": [
    "# Run this cell to set up the notebook, but please don't change it.\n",
    "\n",
    "# These lines import the Numpy and Datascience modules.\n",
    "import numpy as np\n",
    "from datascience import *\n",
    "import d8error\n",
    "\n",
    "# These lines do some fancy plotting magic.\n",
    "import matplotlib\n",
    "%matplotlib inline\n",
    "import matplotlib.pyplot as plt\n",
    "plt.style.use('fivethirtyeight')\n",
    "import warnings\n",
    "warnings.simplefilter('ignore', FutureWarning)"
   ]
  },
  {
   "cell_type": "markdown",
   "id": "3f4655dd",
   "metadata": {},
   "source": [
    "## 1. Vaccinations Across The Nation\n",
    "\n",
    "A vaccination clinic has two types of vaccines against a disease. Each person who comes in to be vaccinated gets either Vaccine 1 or Vaccine 2. One week, everyone who came in on Monday, Wednesday, and Friday was given Vaccine 1. Everyone who came in on Tuesday and Thursday was given Vaccine 2. The clinic is closed on weekends.\n",
    "\n",
    "Doctor DeNero at the clinic said, \"Oh wow, it's just like tossing a coin that lands heads with chance $\\frac{3}{5}$. Heads you get Vaccine 1 and Tails you get Vaccine 2.\"\n",
    "\n",
    "But Doctor Sahai said, \"No, it's not. We're not doing anything like tossing a coin.\"\n",
    "\n",
    "That week, the clinic gave Vaccine 1 to 211 people and Vaccine 2 to 107 people. Conduct a test of hypotheses to see which doctor's position is better supported by the data."
   ]
  },
  {
   "cell_type": "markdown",
   "id": "f3581e6b",
   "metadata": {
    "deletable": false,
    "editable": false
   },
   "source": [
    "**Question 1.1.** Given the information above, what was the sample size for the data, and what was the percentage of people who got **Vaccine 1?** **(4 points)**\n",
    "\n",
    "*Note*: Your percent should be a number between 0 and 100.\n",
    "\n",
    "<!--\n",
    "BEGIN QUESTION\n",
    "name: q1_1\n",
    "manual: false\n",
    "points:\n",
    " - 0\n",
    " - 0\n",
    " - 0\n",
    " - 0\n",
    " - 2\n",
    " - 2\n",
    "-->"
   ]
  },
  {
   "cell_type": "code",
   "execution_count": 29,
   "id": "9a2f390d",
   "metadata": {},
   "outputs": [
    {
     "name": "stdout",
     "output_type": "stream",
     "text": [
      "Sample Size: 318\n",
      "Vaccine 1 Percent: 66.35220125786164\n"
     ]
    }
   ],
   "source": [
    "sample_size = 211 + 107\n",
    "percent_V1 = 211/sample_size * 100\n",
    "\n",
    "print(f\"Sample Size: {sample_size}\")\n",
    "print(f\"Vaccine 1 Percent: {percent_V1}\")"
   ]
  },
  {
   "cell_type": "code",
   "execution_count": 30,
   "id": "266778bb",
   "metadata": {
    "deletable": false,
    "editable": false
   },
   "outputs": [
    {
     "data": {
      "text/html": [
       "<p><strong><pre style='display: inline;'>q1_1</pre></strong> passed!</p>"
      ],
      "text/plain": [
       "q1_1 results: All test cases passed!"
      ]
     },
     "execution_count": 30,
     "metadata": {},
     "output_type": "execute_result"
    }
   ],
   "source": [
    "grader.check(\"q1_1\")"
   ]
  },
  {
   "cell_type": "markdown",
   "id": "913791ba",
   "metadata": {
    "deletable": false,
    "editable": false
   },
   "source": [
    "<!-- BEGIN QUESTION -->\n",
    "\n",
    "**Question 1.2.** State the null hypothesis. It should reflect the position of either Dr. DeNero or Dr. Sahai. **(4 points)**\n",
    "\n",
    "*Note:* Check out [11.3](https://inferentialthinking.com/chapters/11/3/Decisions_and_Uncertainty.html#step-1-the-hypotheses) for a refresher on hypotheses.\n",
    "\n",
    "<!--\n",
    "BEGIN QUESTION\n",
    "name: q1_2\n",
    "manual: true\n",
    "-->"
   ]
  },
  {
   "cell_type": "markdown",
   "id": "9bae5381",
   "metadata": {},
   "source": [
    "The probability of getting vaccine 1 or vaccine 2 is similar to tossing a coin."
   ]
  },
  {
   "cell_type": "markdown",
   "id": "c1a9bd13",
   "metadata": {
    "deletable": false,
    "editable": false
   },
   "source": [
    "<!-- END QUESTION -->\n",
    "\n",
    "<!-- BEGIN QUESTION -->\n",
    "\n",
    "**Question 1.3.** State the alternative hypothesis. It should reflect the position of the doctor you did not choose to represent in Question 1.2. **(4 points)**\n",
    "\n",
    "*Note:* Check out [11.3](https://inferentialthinking.com/chapters/11/3/Decisions_and_Uncertainty.html#step-1-the-hypotheses) for a refresher on hypotheses.\n",
    "\n",
    "<!--\n",
    "BEGIN QUESTION\n",
    "name: q1_3\n",
    "manual: true\n",
    "-->"
   ]
  },
  {
   "cell_type": "markdown",
   "id": "e71dfd4c",
   "metadata": {},
   "source": [
    "The probability of getting vaccine 1 or vaccine 2 is not like tossing a coin.  "
   ]
  },
  {
   "cell_type": "markdown",
   "id": "fd720723",
   "metadata": {
    "deletable": false,
    "editable": false
   },
   "source": [
    "<!-- END QUESTION -->\n",
    "\n",
    "**Question 1.4.** One of the test statistics below is appropriate for testing these hypotheses. Assign the variable `valid_test_stat` to the number corresponding to the correct test statistic. **(4 points)**\n",
    "\n",
    "1. percent of heads - 60\n",
    "2. percent of heads - 50\n",
    "3. |percent of heads - 60|\n",
    "4. |percent of heads - 50|\n",
    "\n",
    "<!--\n",
    "BEGIN QUESTION\n",
    "name: q1_4\n",
    "manual: false\n",
    "points:\n",
    " - 0\n",
    " - 0\n",
    " - 4\n",
    "-->"
   ]
  },
  {
   "cell_type": "code",
   "execution_count": 31,
   "id": "d42d5e6b",
   "metadata": {},
   "outputs": [
    {
     "data": {
      "text/plain": [
       "3"
      ]
     },
     "execution_count": 31,
     "metadata": {},
     "output_type": "execute_result"
    }
   ],
   "source": [
    "valid_test_stat = 3\n",
    "valid_test_stat"
   ]
  },
  {
   "cell_type": "code",
   "execution_count": 32,
   "id": "de88cbed",
   "metadata": {
    "deletable": false,
    "editable": false
   },
   "outputs": [
    {
     "data": {
      "text/html": [
       "<p><strong><pre style='display: inline;'>q1_4</pre></strong> passed!</p>"
      ],
      "text/plain": [
       "q1_4 results: All test cases passed!"
      ]
     },
     "execution_count": 32,
     "metadata": {},
     "output_type": "execute_result"
    }
   ],
   "source": [
    "grader.check(\"q1_4\")"
   ]
  },
  {
   "cell_type": "markdown",
   "id": "c57a9b3e",
   "metadata": {
    "deletable": false,
    "editable": false
   },
   "source": [
    "**Question 1.5.** Using your answer from Questions 1.1 and 1.4, find the observed value of the test statistic and assign it to the variable `observed_statistic`. **(4 points)**\n",
    "\n",
    "<!--\n",
    "BEGIN QUESTION\n",
    "name: q1_5\n",
    "manual: false\n",
    "points:\n",
    " - 0\n",
    " - 0\n",
    " - 4\n",
    "-->"
   ]
  },
  {
   "cell_type": "code",
   "execution_count": 33,
   "id": "ba580a2b",
   "metadata": {},
   "outputs": [
    {
     "data": {
      "text/plain": [
       "6.352201257861637"
      ]
     },
     "execution_count": 33,
     "metadata": {},
     "output_type": "execute_result"
    }
   ],
   "source": [
    "observed_statistic = abs(percent_V1-60)\n",
    "observed_statistic"
   ]
  },
  {
   "cell_type": "code",
   "execution_count": 34,
   "id": "7f88038e",
   "metadata": {
    "deletable": false,
    "editable": false
   },
   "outputs": [
    {
     "data": {
      "text/html": [
       "<p><strong><pre style='display: inline;'>q1_5</pre></strong> passed!</p>"
      ],
      "text/plain": [
       "q1_5 results: All test cases passed!"
      ]
     },
     "execution_count": 34,
     "metadata": {},
     "output_type": "execute_result"
    }
   ],
   "source": [
    "grader.check(\"q1_5\")"
   ]
  },
  {
   "cell_type": "markdown",
   "id": "24f43aba",
   "metadata": {
    "deletable": false,
    "editable": false
   },
   "source": [
    "**Question 1.6.** In order to perform this hypothesis test, you must simulate the test statistic. From the four options below, pick the assumption that is needed for this simulation. Assign `assumption_needed` to an integer corresponding to the assumption. **(4 points)**\n",
    "\n",
    "1. The statistic must be simulated under the null hypothesis.\n",
    "2. The statistic must be simulated under the alternative hypothesis.\n",
    "3. The statistic must be simulated under both hypotheses.\n",
    "4. No assumptions are needed. We can just simulate the statistic.\n",
    "\n",
    "<!--\n",
    "BEGIN QUESTION\n",
    "name: q1_6\n",
    "manual: false\n",
    "points:\n",
    " - 0\n",
    " - 0\n",
    " - 4\n",
    "-->"
   ]
  },
  {
   "cell_type": "code",
   "execution_count": 35,
   "id": "7ddd731c",
   "metadata": {},
   "outputs": [
    {
     "data": {
      "text/plain": [
       "1"
      ]
     },
     "execution_count": 35,
     "metadata": {},
     "output_type": "execute_result"
    }
   ],
   "source": [
    "assumption_needed = 1\n",
    "assumption_needed"
   ]
  },
  {
   "cell_type": "code",
   "execution_count": 36,
   "id": "bd43b677",
   "metadata": {
    "deletable": false,
    "editable": false
   },
   "outputs": [
    {
     "data": {
      "text/html": [
       "<p><strong><pre style='display: inline;'>q1_6</pre></strong> passed!</p>"
      ],
      "text/plain": [
       "q1_6 results: All test cases passed!"
      ]
     },
     "execution_count": 36,
     "metadata": {},
     "output_type": "execute_result"
    }
   ],
   "source": [
    "grader.check(\"q1_6\")"
   ]
  },
  {
   "cell_type": "markdown",
   "id": "ee596763",
   "metadata": {
    "deletable": false,
    "editable": false
   },
   "source": [
    "<!-- BEGIN QUESTION -->\n",
    "\n",
    "**Question 1.7.** Simulate 20,000 values of the test statistic under the assumption you picked in Question 1.6. **(4 points)** \n",
    "\n",
    "As usual, start by defining a function that simulates one value of the statistic. Your function should use `sample_proportions`. (You may find a variable defined in Question 1.1 useful here!) Then, write a `for` loop to simulate multiple values and collect them in the array `simulated_statistics`.\n",
    "\n",
    "Use as many lines of code as you need. We have included the code that visualizes the distribution of the simulated values. The red dot represents the observed statistic you found in Question 1.5.\n",
    "\n",
    "<!--\n",
    "BEGIN QUESTION\n",
    "name: q1_7\n",
    "manual: true\n",
    "-->"
   ]
  },
  {
   "cell_type": "code",
   "execution_count": 37,
   "id": "30204cd5",
   "metadata": {},
   "outputs": [
    {
     "data": {
      "text/plain": [
       "1.2578616352201255"
      ]
     },
     "execution_count": 37,
     "metadata": {},
     "output_type": "execute_result"
    }
   ],
   "source": [
    "def one_simulated_statistic():\n",
    "    statistics = [.5, .5]\n",
    "    one_sample = sample_proportions(sample_size, statistics)\n",
    "    #print(one_sample)\n",
    "    result = abs(one_sample.item(0) - .5) \n",
    "    return result * 100\n",
    "\n",
    "num_simulations = 20000\n",
    "\n",
    "simulated_statistics = make_array()\n",
    "for _ in np.arange(num_simulations):\n",
    "    result = one_simulated_statistic()\n",
    "    simulated_statistics = np.append(simulated_statistics, result)\n",
    "\n",
    "# Run the this cell a few times to see how the simulated statistic changes\n",
    "one_simulated_statistic()"
   ]
  },
  {
   "cell_type": "code",
   "execution_count": 38,
   "id": "e0019875-ce5c-49a7-9aaf-d4af1913d319",
   "metadata": {},
   "outputs": [
    {
     "data": {
      "text/html": [
       "<table border=\"1\" class=\"dataframe\">\n",
       "    <thead>\n",
       "        <tr>\n",
       "            <th>Simulated Statistic</th>\n",
       "        </tr>\n",
       "    </thead>\n",
       "    <tbody>\n",
       "        <tr>\n",
       "            <td>0.314465           </td>\n",
       "        </tr>\n",
       "        <tr>\n",
       "            <td>4.08805            </td>\n",
       "        </tr>\n",
       "        <tr>\n",
       "            <td>1.88679            </td>\n",
       "        </tr>\n",
       "        <tr>\n",
       "            <td>0                  </td>\n",
       "        </tr>\n",
       "        <tr>\n",
       "            <td>1.57233            </td>\n",
       "        </tr>\n",
       "        <tr>\n",
       "            <td>0.314465           </td>\n",
       "        </tr>\n",
       "        <tr>\n",
       "            <td>5.66038            </td>\n",
       "        </tr>\n",
       "        <tr>\n",
       "            <td>2.20126            </td>\n",
       "        </tr>\n",
       "        <tr>\n",
       "            <td>2.83019            </td>\n",
       "        </tr>\n",
       "        <tr>\n",
       "            <td>2.51572            </td>\n",
       "        </tr>\n",
       "    </tbody>\n",
       "</table>\n",
       "<p>... (19990 rows omitted)</p>"
      ],
      "text/plain": [
       "Simulated Statistic\n",
       "0.314465\n",
       "4.08805\n",
       "1.88679\n",
       "0\n",
       "1.57233\n",
       "0.314465\n",
       "5.66038\n",
       "2.20126\n",
       "2.83019\n",
       "2.51572\n",
       "... (19990 rows omitted)"
      ]
     },
     "execution_count": 38,
     "metadata": {},
     "output_type": "execute_result"
    }
   ],
   "source": [
    "Table().with_columns('Simulated Statistic', simulated_statistics)"
   ]
  },
  {
   "cell_type": "markdown",
   "id": "2f12ccc7",
   "metadata": {
    "deletable": false,
    "editable": false
   },
   "source": [
    "<!-- END QUESTION -->"
   ]
  },
  {
   "cell_type": "code",
   "execution_count": 39,
   "id": "52ed918a",
   "metadata": {},
   "outputs": [
    {
     "data": {
      "image/png": "[encoded data removed]",
      "text/plain": [
       "<Figure size 432x288 with 1 Axes>"
      ]
     },
     "metadata": {},
     "output_type": "display_data"
    }
   ],
   "source": [
    "# Run this cell to produce a histogram of the simulated statistics\n",
    "\n",
    "Table().with_columns('Simulated Statistic', simulated_statistics).hist()\n",
    "plt.scatter(observed_statistic, -0.002, color='red', s=40);"
   ]
  },
  {
   "cell_type": "markdown",
   "id": "cbe5c84b",
   "metadata": {
    "deletable": false,
    "editable": false
   },
   "source": [
    "**Question 1.8.** Using `simulated_statistics`, `observed_statistic`, and `num_simulations`, find the empirical p-value based on the simulation. **(4 points)**\n",
    "\n",
    "<!--\n",
    "BEGIN QUESTION\n",
    "name: q1_8\n",
    "manual: false\n",
    "points:\n",
    " - 0\n",
    " - 0\n",
    " - 4\n",
    "-->"
   ]
  },
  {
   "cell_type": "code",
   "execution_count": 40,
   "id": "80757f60",
   "metadata": {},
   "outputs": [
    {
     "data": {
      "text/plain": [
       "0.02085"
      ]
     },
     "execution_count": 40,
     "metadata": {},
     "output_type": "execute_result"
    }
   ],
   "source": [
    "p_value = np.count_nonzero(simulated_statistics >= observed_statistic)/num_simulations\n",
    "p_value"
   ]
  },
  {
   "cell_type": "code",
   "execution_count": 41,
   "id": "fd53f309",
   "metadata": {
    "deletable": false,
    "editable": false
   },
   "outputs": [
    {
     "data": {
      "text/html": [
       "<p><strong><pre style='display: inline;'>q1_8</pre></strong> passed!</p>"
      ],
      "text/plain": [
       "q1_8 results: All test cases passed!"
      ]
     },
     "execution_count": 41,
     "metadata": {},
     "output_type": "execute_result"
    }
   ],
   "source": [
    "grader.check(\"q1_8\")"
   ]
  },
  {
   "cell_type": "markdown",
   "id": "0c016d9c",
   "metadata": {
    "deletable": false,
    "editable": false
   },
   "source": [
    "**Question 1.9.** Assign `correct_doctor` to the number corresponding to the correct statement below. Use the 5% cutoff for the p-value. **(4 points)**\n",
    "\n",
    "1. The data support Dr. DeNero's position more than they support Dr. Sahai's.\n",
    "2. The data support Dr. Sahai's position more than they support Dr. DeNero's.\n",
    "\n",
    "As a reminder, here are the two claims made by Dr. DeNero and Dr. Sahai:\n",
    "> **Doctor DeNero:** \"Oh wow, it's just like tossing a coin that lands heads with chance $\\frac{3}{5}$. Heads you get Vaccine 1 and Tails you get Vaccine 2.\"\n",
    "\n",
    ">**Doctor Sahai:** \"No, it's not. We're not doing anything like tossing a coin.\"\n",
    "\n",
    "<!--\n",
    "BEGIN QUESTION\n",
    "name: q1_9\n",
    "manual: false\n",
    "points:\n",
    " - 0\n",
    " - 0\n",
    " - 4\n",
    "-->"
   ]
  },
  {
   "cell_type": "code",
   "execution_count": 42,
   "id": "6f3ec84e",
   "metadata": {},
   "outputs": [
    {
     "data": {
      "text/plain": [
       "2"
      ]
     },
     "execution_count": 42,
     "metadata": {},
     "output_type": "execute_result"
    }
   ],
   "source": [
    "correct_doctor = 2\n",
    "correct_doctor"
   ]
  },
  {
   "cell_type": "code",
   "execution_count": 43,
   "id": "0d4d568a",
   "metadata": {
    "deletable": false,
    "editable": false
   },
   "outputs": [
    {
     "data": {
      "text/html": [
       "<p><strong><pre style='display: inline;'>q1_9</pre></strong> passed!</p>"
      ],
      "text/plain": [
       "q1_9 results: All test cases passed!"
      ]
     },
     "execution_count": 43,
     "metadata": {},
     "output_type": "execute_result"
    }
   ],
   "source": [
    "grader.check(\"q1_9\")"
   ]
  },
  {
   "cell_type": "markdown",
   "id": "ee1971cd",
   "metadata": {},
   "source": [
    "## 2. Using TVD as a Test Statistic\n",
    "\n",
    "Before beginning this section, please read [this section](https://inferentialthinking.com/chapters/11/2/Multiple_Categories.html#a-new-statistic-the-distance-between-two-distributions) of the textbook on TVD!"
   ]
  },
  {
   "cell_type": "markdown",
   "id": "cdb52eae",
   "metadata": {},
   "source": [
    "**Total variation distance (TVD)** is a special type of test statistic that we use when we want to compare two distributions of *categorical data*. It is often used when we observe that a set of observed proportions/probabilities is different than what we expect under the null model. \n",
    "\n",
    "Consider a six-sided die that we roll 6,000 times. If the die is fair, we would expect that each face comes up $\\frac{1}{6}$ of the time. By random chance, a fair die won't always result in equal proportions (that is, we won't get exactly 1,000 of each face). However, if we suspect that the die might be unfair based on the data, we can conduct a hypothesis test using TVD to compare the expected [$\\frac{1}{6}$, $\\frac{1}{6}$, $\\frac{1}{6}$, $\\frac{1}{6}$, $\\frac{1}{6}$, $\\frac{1}{6}$] distribution to what is actually observed.\n",
    "\n",
    "In this part of the homework, we'll look at how we can use TVD to determine the effect that different factors have on happiness. \n",
    "\n",
    "We will be working with data from the [Gallup World Poll](https://www.gallup.com/analytics/349487/gallup-global-happiness-center.aspx#:~:text=World%20Happiness%20Report&text=Using%20the%20Gallup%20World%20Poll,about%20the%20World%20Happiness%20Report.) that is presented in the World Happiness Report, a survey of the state of global happiness. The survey ranked 155 countries by overall happiness and estimated the influence that economic production, social support, life expectancy, freedom, absence of corruption, and generosity had on population happiness. The study has been repeated for several years, but we'll be looking at data from the 2016 survey.\n",
    "\n",
    "Run the cell below to load in the `happiness_scores` table."
   ]
  },
  {
   "cell_type": "code",
   "execution_count": 44,
   "id": "24bc3262",
   "metadata": {},
   "outputs": [
    {
     "data": {
      "text/html": [
       "<table border=\"1\" class=\"dataframe\">\n",
       "    <thead>\n",
       "        <tr>\n",
       "            <th>Country</th> <th>Region</th> <th>Happiness Rank</th> <th>Happiness Score</th> <th>Lower Confidence Interval</th> <th>Upper Confidence Interval</th> <th>Economy (GDP per Capita)</th> <th>Family</th> <th>Health (Life Expectancy)</th> <th>Freedom</th> <th>Trust (Government Corruption)</th> <th>Generosity</th>\n",
       "        </tr>\n",
       "    </thead>\n",
       "    <tbody>\n",
       "        <tr>\n",
       "            <td>Denmark    </td> <td>Western Europe</td> <td>1             </td> <td>7.526          </td> <td>7.46                     </td> <td>7.592                    </td> <td>1.44178                 </td> <td>1.16374</td> <td>0.79504                 </td> <td>0.57941</td> <td>0.44453                      </td> <td>0.36171   </td>\n",
       "        </tr>\n",
       "        <tr>\n",
       "            <td>Switzerland</td> <td>Western Europe</td> <td>2             </td> <td>7.509          </td> <td>7.428                    </td> <td>7.59                     </td> <td>1.52733                 </td> <td>1.14524</td> <td>0.86303                 </td> <td>0.58557</td> <td>0.41203                      </td> <td>0.28083   </td>\n",
       "        </tr>\n",
       "        <tr>\n",
       "            <td>Iceland    </td> <td>Western Europe</td> <td>3             </td> <td>7.501          </td> <td>7.333                    </td> <td>7.669                    </td> <td>1.42666                 </td> <td>1.18326</td> <td>0.86733                 </td> <td>0.56624</td> <td>0.14975                      </td> <td>0.47678   </td>\n",
       "        </tr>\n",
       "        <tr>\n",
       "            <td>Norway     </td> <td>Western Europe</td> <td>4             </td> <td>7.498          </td> <td>7.421                    </td> <td>7.575                    </td> <td>1.57744                 </td> <td>1.1269 </td> <td>0.79579                 </td> <td>0.59609</td> <td>0.35776                      </td> <td>0.37895   </td>\n",
       "        </tr>\n",
       "        <tr>\n",
       "            <td>Finland    </td> <td>Western Europe</td> <td>5             </td> <td>7.413          </td> <td>7.351                    </td> <td>7.475                    </td> <td>1.40598                 </td> <td>1.13464</td> <td>0.81091                 </td> <td>0.57104</td> <td>0.41004                      </td> <td>0.25492   </td>\n",
       "        </tr>\n",
       "    </tbody>\n",
       "</table>\n",
       "<p>... (152 rows omitted)</p>"
      ],
      "text/plain": [
       "<IPython.core.display.HTML object>"
      ]
     },
     "metadata": {},
     "output_type": "display_data"
    }
   ],
   "source": [
    "happiness_scores = Table.read_table(\"happiness_scores.csv\")\n",
    "happiness_scores.show(5)"
   ]
  },
  {
   "cell_type": "markdown",
   "id": "620f4a84",
   "metadata": {},
   "source": [
    "Participants in the study were asked to evaluate their life satisfaction from a scale of 0 (worst possible life) to 10 (best possible life). The responses for each country were averaged to create the `Happiness Score`.\n",
    "\n",
    "The columns `Economy (GDP per Capita)`, `Family`, `Health (Life Expectancy)`, `Freedom`, `Trust (Government Corruption)`, and `Generosity` estimate the extent to which each factor influences happiness, both for better or for worse. The happiness score is the sum of these factors; the larger a factor is, the more it contributes to overall happiness. [In other words, if you add up all the factors (in addition to a \"Difference from Dystopia\" value we excluded in the dataset), you get the happiness score.]\n",
    "\n",
    "Let's look at the different factors that affect happiness in the United States. Run the cell below to view the row in `us_happiness` that contains data for the United States."
   ]
  },
  {
   "cell_type": "code",
   "execution_count": 45,
   "id": "e2b7706e",
   "metadata": {},
   "outputs": [
    {
     "data": {
      "text/html": [
       "<table border=\"1\" class=\"dataframe\">\n",
       "    <thead>\n",
       "        <tr>\n",
       "            <th>Country</th> <th>Region</th> <th>Happiness Rank</th> <th>Happiness Score</th> <th>Lower Confidence Interval</th> <th>Upper Confidence Interval</th> <th>Economy (GDP per Capita)</th> <th>Family</th> <th>Health (Life Expectancy)</th> <th>Freedom</th> <th>Trust (Government Corruption)</th> <th>Generosity</th>\n",
       "        </tr>\n",
       "    </thead>\n",
       "    <tbody>\n",
       "        <tr>\n",
       "            <td>United States</td> <td>North America</td> <td>13            </td> <td>7.104          </td> <td>7.02                     </td> <td>7.188                    </td> <td>1.50796                 </td> <td>1.04782</td> <td>0.779                   </td> <td>0.48163</td> <td>0.14868                      </td> <td>0.41077   </td>\n",
       "        </tr>\n",
       "    </tbody>\n",
       "</table>"
      ],
      "text/plain": [
       "Country       | Region        | Happiness Rank | Happiness Score | Lower Confidence Interval | Upper Confidence Interval | Economy (GDP per Capita) | Family  | Health (Life Expectancy) | Freedom | Trust (Government Corruption) | Generosity\n",
       "United States | North America | 13             | 7.104           | 7.02                      | 7.188                     | 1.50796                  | 1.04782 | 0.779                    | 0.48163 | 0.14868                       | 0.41077"
      ]
     },
     "execution_count": 45,
     "metadata": {},
     "output_type": "execute_result"
    }
   ],
   "source": [
    "us_happiness = happiness_scores.where(\"Country\", \"United States\")\n",
    "us_happiness"
   ]
  },
  {
   "cell_type": "markdown",
   "id": "a8d4939b",
   "metadata": {},
   "source": [
    "**To compare the different factors, we'll look at the proportion of the happiness score that is attributed to each variable. \n",
    "You can find these proportions in the table `us_happiness_factors` after running the cell below.**\n",
    "\n",
    "*Note:* The factors shown in `us_happiness` don't add up exactly to the happiness score, so we adjusted the proportions to  only account for the data we have access to. The proportions were found by dividing each Happiness Factor value by the sum of all Happiness Factor values in `us_happiness`."
   ]
  },
  {
   "cell_type": "code",
   "execution_count": 46,
   "id": "d7551b8d",
   "metadata": {},
   "outputs": [
    {
     "data": {
      "text/html": [
       "<table border=\"1\" class=\"dataframe\">\n",
       "    <thead>\n",
       "        <tr>\n",
       "            <th>Happiness Factor</th> <th>Proportion of Happiness Score</th>\n",
       "        </tr>\n",
       "    </thead>\n",
       "    <tbody>\n",
       "        <tr>\n",
       "            <td>Economy (GDP per Capita)     </td> <td>0.344609                     </td>\n",
       "        </tr>\n",
       "        <tr>\n",
       "            <td>Family                       </td> <td>0.239455                     </td>\n",
       "        </tr>\n",
       "        <tr>\n",
       "            <td>Health (Life Expectancy)     </td> <td>0.178022                     </td>\n",
       "        </tr>\n",
       "        <tr>\n",
       "            <td>Freedom                      </td> <td>0.110065                     </td>\n",
       "        </tr>\n",
       "        <tr>\n",
       "            <td>Trust (Government Corruption)</td> <td>0.0339773                    </td>\n",
       "        </tr>\n",
       "        <tr>\n",
       "            <td>Generosity                   </td> <td>0.0938718                    </td>\n",
       "        </tr>\n",
       "    </tbody>\n",
       "</table>"
      ],
      "text/plain": [
       "Happiness Factor              | Proportion of Happiness Score\n",
       "Economy (GDP per Capita)      | 0.344609\n",
       "Family                        | 0.239455\n",
       "Health (Life Expectancy)      | 0.178022\n",
       "Freedom                       | 0.110065\n",
       "Trust (Government Corruption) | 0.0339773\n",
       "Generosity                    | 0.0938718"
      ]
     },
     "execution_count": 46,
     "metadata": {},
     "output_type": "execute_result"
    }
   ],
   "source": [
    "us_happiness_factors = Table().read_table(\"us_happiness_factors.csv\")\n",
    "us_happiness_factors"
   ]
  },
  {
   "cell_type": "markdown",
   "id": "8fec6d5c",
   "metadata": {
    "deletable": false,
    "editable": false
   },
   "source": [
    "<!-- BEGIN QUESTION -->\n",
    "\n",
    "**Question 2.1.** Suppose we want to test whether or not each factor contributes the same amount to the overall Happiness Score. Define the null hypothesis, alternative hypothesis, and test statistic in the cell below. Feel free to check your work with another student or course staff. **(4 points)**\n",
    "\n",
    "*Note:* Please format your answer as follows:\n",
    "- Null Hypothesis: ...  \n",
    "- Alternative Hypothesis: ...  \n",
    "- Test Statistic: ...  \n",
    "\n",
    "<!--\n",
    "BEGIN QUESTION\n",
    "name: q2_1\n",
    "manual: true\n",
    "-->"
   ]
  },
  {
   "cell_type": "markdown",
   "id": "3104dc3b",
   "metadata": {},
   "source": [
    "Null Hypothesis: Each sample factors in the us_happiness_factors accounts for 1/6 of the Happiness Score.\n",
    "\n",
    "Alternative Hypothesis: Each sample factors in the us_happiness_factors does not account for 1/6 of the Happiness Score.\n",
    "\n",
    "Tes Statistic: The total of the absalute difference of overseved statistic minus the expected statistic divided by 2.\n"
   ]
  },
  {
   "cell_type": "markdown",
   "id": "64ddfaed",
   "metadata": {
    "deletable": false,
    "editable": false
   },
   "source": [
    "<!-- END QUESTION -->\n",
    "\n",
    "**Question 2.2.** Write a function `calculate_tvd` that takes in the observed distribution (`obs_dist`) and expected distribution under the null hypothesis (`null_dist`) and calculates the total variation distance. Use this function to set `observed_tvd` to be equal to the observed test statistic. **(4 points)**\n",
    "\n",
    "<!--\n",
    "BEGIN QUESTION\n",
    "name: q2_2\n",
    "manual: false\n",
    "points:\n",
    " - 2\n",
    " - 2\n",
    "-->"
   ]
  },
  {
   "cell_type": "code",
   "execution_count": 47,
   "id": "d0c9cb50",
   "metadata": {},
   "outputs": [
    {
     "data": {
      "text/plain": [
       "0.26208562431156396"
      ]
     },
     "execution_count": 47,
     "metadata": {},
     "output_type": "execute_result"
    }
   ],
   "source": [
    "null_distribution = np.ones(6) * (1/6) # Model\n",
    "\n",
    "def calculate_tvd(obs_dist, null_dist):\n",
    "    return sum(abs(null_dist - obs_dist))/2\n",
    "    \n",
    "observed_tvd = calculate_tvd(us_happiness_factors.column(1), null_distribution)\n",
    "observed_tvd"
   ]
  },
  {
   "cell_type": "code",
   "execution_count": 48,
   "id": "78864341-4481-43d1-9af0-628ebc503da4",
   "metadata": {},
   "outputs": [
    {
     "data": {
      "text/plain": [
       "(array([0.149, 0.174, 0.154, 0.175, 0.181, 0.167]),\n",
       " array([0.16666667, 0.16666667, 0.16666667, 0.16666667, 0.16666667,\n",
       "        0.16666667]))"
      ]
     },
     "execution_count": 48,
     "metadata": {},
     "output_type": "execute_result"
    }
   ],
   "source": [
    "simulated = sample_proportions(1000, null_distribution)\n",
    "simulated , null_distribution"
   ]
  },
  {
   "cell_type": "code",
   "execution_count": 49,
   "id": "63d3739c-ff3d-447c-aa99-376788fc7e5e",
   "metadata": {},
   "outputs": [
    {
     "data": {
      "text/html": [
       "<table border=\"1\" class=\"dataframe\">\n",
       "    <thead>\n",
       "        <tr>\n",
       "            <th>Happiness Factor</th> <th>Model</th> <th>Proportion of Happiness Score</th> <th>Simulated</th>\n",
       "        </tr>\n",
       "    </thead>\n",
       "    <tbody>\n",
       "        <tr>\n",
       "            <td>Economy (GDP per Capita)     </td> <td>0.166667</td> <td>0.344609                     </td> <td>0.149    </td>\n",
       "        </tr>\n",
       "        <tr>\n",
       "            <td>Family                       </td> <td>0.166667</td> <td>0.239455                     </td> <td>0.174    </td>\n",
       "        </tr>\n",
       "        <tr>\n",
       "            <td>Health (Life Expectancy)     </td> <td>0.166667</td> <td>0.178022                     </td> <td>0.154    </td>\n",
       "        </tr>\n",
       "        <tr>\n",
       "            <td>Freedom                      </td> <td>0.166667</td> <td>0.110065                     </td> <td>0.175    </td>\n",
       "        </tr>\n",
       "        <tr>\n",
       "            <td>Trust (Government Corruption)</td> <td>0.166667</td> <td>0.0339773                    </td> <td>0.181    </td>\n",
       "        </tr>\n",
       "        <tr>\n",
       "            <td>Generosity                   </td> <td>0.166667</td> <td>0.0938718                    </td> <td>0.167    </td>\n",
       "        </tr>\n",
       "    </tbody>\n",
       "</table>"
      ],
      "text/plain": [
       "Happiness Factor              | Model    | Proportion of Happiness Score | Simulated\n",
       "Economy (GDP per Capita)      | 0.166667 | 0.344609                      | 0.149\n",
       "Family                        | 0.166667 | 0.239455                      | 0.174\n",
       "Health (Life Expectancy)      | 0.166667 | 0.178022                      | 0.154\n",
       "Freedom                       | 0.166667 | 0.110065                      | 0.175\n",
       "Trust (Government Corruption) | 0.166667 | 0.0339773                     | 0.181\n",
       "Generosity                    | 0.166667 | 0.0938718                     | 0.167"
      ]
     },
     "execution_count": 49,
     "metadata": {},
     "output_type": "execute_result"
    }
   ],
   "source": [
    "us_happiness_factors_with_simulated = us_happiness_factors.with_columns(\n",
    "                                        'Model', null_distribution, \n",
    "                                        'Simulated', simulated)\n",
    "us_happiness_factors_with_simulated.select(0, 2, 1, 3)"
   ]
  },
  {
   "cell_type": "code",
   "execution_count": 50,
   "id": "1e16880f",
   "metadata": {
    "deletable": false,
    "editable": false
   },
   "outputs": [
    {
     "data": {
      "text/html": [
       "<p><strong><pre style='display: inline;'>q2_2</pre></strong> passed!</p>"
      ],
      "text/plain": [
       "q2_2 results: All test cases passed!"
      ]
     },
     "execution_count": 50,
     "metadata": {},
     "output_type": "execute_result"
    }
   ],
   "source": [
    "grader.check(\"q2_2\")"
   ]
  },
  {
   "cell_type": "markdown",
   "id": "d7140df6",
   "metadata": {
    "deletable": false,
    "editable": false
   },
   "source": [
    "**Question 2.3.** Create an array called `simulated_tvds` that contains 10,000 simulated values under the null hypothesis. Assume that the original sample consisted of 1,000 individuals. **(4 points)**\n",
    "\n",
    "*Hint:* The `sample_proportions` function may be helpful to you. Refer to the [Python Reference Sheet](http://data8.org/sp22/python-reference.html#:~:text=sample_proportions(sample_size%2C%20model_proportions)) to read up on it!\n",
    "\n",
    "<!--\n",
    "BEGIN QUESTION\n",
    "name: q2_3\n",
    "manual: false\n",
    "points:\n",
    " - 1\n",
    " - 1\n",
    " - 1\n",
    " - 1\n",
    "-->"
   ]
  },
  {
   "cell_type": "code",
   "execution_count": 51,
   "id": "64d66762",
   "metadata": {},
   "outputs": [
    {
     "data": {
      "text/plain": [
       "array([0.02433333, 0.03033333, 0.035     , ..., 0.035     , 0.037     ,\n",
       "       0.01566667])"
      ]
     },
     "execution_count": 51,
     "metadata": {},
     "output_type": "execute_result"
    }
   ],
   "source": [
    "def one_simulated_tvd():\n",
    "    return calculate_tvd(sample_proportions(1000, null_distribution), \n",
    "                          null_distribution)\n",
    "simulated_tvds = make_array()\n",
    "\n",
    "for _ in np.arange(10000):\n",
    "    #result = sample_proportions(1000, null_distribution)\n",
    "    result = one_simulated_tvd()\n",
    "    simulated_tvds = np.append(simulated_tvds, result)\n",
    "simulated_tvds"
   ]
  },
  {
   "cell_type": "code",
   "execution_count": 52,
   "id": "b47245e5-8506-4ed3-bd4f-02209dd959b1",
   "metadata": {},
   "outputs": [
    {
     "data": {
      "text/plain": [
       "array([0.16666667, 0.16666667, 0.16666667, 0.16666667, 0.16666667,\n",
       "       0.16666667])"
      ]
     },
     "execution_count": 52,
     "metadata": {},
     "output_type": "execute_result"
    }
   ],
   "source": [
    "null_distribution"
   ]
  },
  {
   "cell_type": "code",
   "execution_count": 53,
   "id": "c9772f1b",
   "metadata": {
    "deletable": false,
    "editable": false
   },
   "outputs": [
    {
     "data": {
      "text/html": [
       "<p><strong><pre style='display: inline;'>q2_3</pre></strong> passed!</p>"
      ],
      "text/plain": [
       "q2_3 results: All test cases passed!"
      ]
     },
     "execution_count": 53,
     "metadata": {},
     "output_type": "execute_result"
    }
   ],
   "source": [
    "grader.check(\"q2_3\")"
   ]
  },
  {
   "cell_type": "markdown",
   "id": "3f8e0fc3",
   "metadata": {},
   "source": [
    "Run the cell below to plot a histogram of your simulated test statistics, as well as a red dot representing the observed value of the test statistic."
   ]
  },
  {
   "cell_type": "code",
   "execution_count": 54,
   "id": "ffcd9525",
   "metadata": {},
   "outputs": [
    {
     "data": {
      "image/png": "[encoded data removed]",
      "text/plain": [
       "<Figure size 432x288 with 1 Axes>"
      ]
     },
     "metadata": {},
     "output_type": "display_data"
    }
   ],
   "source": [
    "Table().with_column(\"Simulated TVDs\", simulated_tvds).hist()\n",
    "plt.scatter(observed_tvd, 0, color='red', s=70, zorder=2);\n",
    "plt.show();"
   ]
  },
  {
   "cell_type": "markdown",
   "id": "ca69d019",
   "metadata": {
    "deletable": false,
    "editable": false
   },
   "source": [
    "**Question 2.4.** Use your simulated statistics to calculate the p-value of your test. Make sure that this number is consistent with what you observed in the histogram above. **(4 points)**\n",
    "\n",
    "<!--\n",
    "BEGIN QUESTION\n",
    "name: q2_4\n",
    "manual: false\n",
    "points:\n",
    " - 4\n",
    "-->"
   ]
  },
  {
   "cell_type": "code",
   "execution_count": 55,
   "id": "9d866d38",
   "metadata": {},
   "outputs": [
    {
     "data": {
      "text/plain": [
       "0.0"
      ]
     },
     "execution_count": 55,
     "metadata": {},
     "output_type": "execute_result"
    }
   ],
   "source": [
    "p_value_tvd = np.count_nonzero(simulated_tvds >= observed_tvd)/10000\n",
    "p_value_tvd"
   ]
  },
  {
   "cell_type": "code",
   "execution_count": 56,
   "id": "9414dfd7",
   "metadata": {
    "deletable": false,
    "editable": false
   },
   "outputs": [
    {
     "data": {
      "text/html": [
       "<p><strong><pre style='display: inline;'>q2_4</pre></strong> passed!</p>"
      ],
      "text/plain": [
       "q2_4 results: All test cases passed!"
      ]
     },
     "execution_count": 56,
     "metadata": {},
     "output_type": "execute_result"
    }
   ],
   "source": [
    "grader.check(\"q2_4\")"
   ]
  },
  {
   "cell_type": "markdown",
   "id": "a8415df4",
   "metadata": {
    "deletable": false,
    "editable": false
   },
   "source": [
    "<!-- BEGIN QUESTION -->\n",
    "\n",
    "**Question 2.5.** What can you conclude about how each factor contributes to the overall happiness score in the US? Explain your answer using the results of your hypothesis test. Assume a p-value cutoff of 5%. **(4 points)**\n",
    "\n",
    "<!--\n",
    "BEGIN QUESTION\n",
    "name: q2_5\n",
    "manual: true\n",
    "-->"
   ]
  },
  {
   "cell_type": "markdown",
   "id": "825fa226",
   "metadata": {},
   "source": [
    "The emperical distribution of data does not support the null hypothesis, therefore, the proportion of factors in the us_happiness_factors do not equally contribute to the Happiness Score."
   ]
  },
  {
   "cell_type": "markdown",
   "id": "365f3e92",
   "metadata": {
    "deletable": false,
    "editable": false
   },
   "source": [
    "<!-- END QUESTION -->"
   ]
  },
  {
   "cell_type": "markdown",
   "id": "7fa4579a",
   "metadata": {},
   "source": [
    "## 3. Who is Older?\n",
    "\n",
    "Data scientists have drawn a simple random sample of size 500 from a large population of adults. Each member of the population happened to identify as either \"male\" or \"female\". Data was collected on several attributes of the sampled people, including age. The table `sampled_ages` contains one row for each person in the sample, with columns containing the individual's gender identity."
   ]
  },
  {
   "cell_type": "code",
   "execution_count": 57,
   "id": "a1f80084",
   "metadata": {},
   "outputs": [
    {
     "data": {
      "text/html": [
       "<table border=\"1\" class=\"dataframe\">\n",
       "    <thead>\n",
       "        <tr>\n",
       "            <th>Gender</th> <th>Age</th>\n",
       "        </tr>\n",
       "    </thead>\n",
       "    <tbody>\n",
       "        <tr>\n",
       "            <td>male  </td> <td>23  </td>\n",
       "        </tr>\n",
       "        <tr>\n",
       "            <td>male  </td> <td>29  </td>\n",
       "        </tr>\n",
       "        <tr>\n",
       "            <td>male  </td> <td>29  </td>\n",
       "        </tr>\n",
       "        <tr>\n",
       "            <td>female</td> <td>49  </td>\n",
       "        </tr>\n",
       "        <tr>\n",
       "            <td>female</td> <td>33  </td>\n",
       "        </tr>\n",
       "    </tbody>\n",
       "</table>\n",
       "<p>... (495 rows omitted)</p>"
      ],
      "text/plain": [
       "<IPython.core.display.HTML object>"
      ]
     },
     "metadata": {},
     "output_type": "display_data"
    }
   ],
   "source": [
    "sampled_ages = Table.read_table('age.csv')\n",
    "sampled_ages.show(5)"
   ]
  },
  {
   "cell_type": "markdown",
   "id": "dbc51391",
   "metadata": {
    "deletable": false,
    "editable": false
   },
   "source": [
    "**Question 3.1.** How many females were there in our sample? Please use the provided skeleton code. **(4 points)**\n",
    "\n",
    "*Hint:* Keep in mind that `.group` sorts categories in alphabetical order!\n",
    "\n",
    "<!--\n",
    "BEGIN QUESTION\n",
    "name: q3_1\n",
    "manual: false\n",
    "points:\n",
    " - 0\n",
    " - 4\n",
    "-->"
   ]
  },
  {
   "cell_type": "code",
   "execution_count": 58,
   "id": "d3948762",
   "metadata": {},
   "outputs": [
    {
     "data": {
      "text/plain": [
       "260"
      ]
     },
     "execution_count": 58,
     "metadata": {},
     "output_type": "execute_result"
    }
   ],
   "source": [
    "num_females = sampled_ages.group('Gender').column(1).item(0)\n",
    "num_females\n",
    "#sampled_ages.group('Gender', np.mean)"
   ]
  },
  {
   "cell_type": "code",
   "execution_count": 59,
   "id": "1fad7816",
   "metadata": {
    "deletable": false,
    "editable": false
   },
   "outputs": [
    {
     "data": {
      "text/html": [
       "<p><strong><pre style='display: inline;'>q3_1</pre></strong> passed!</p>"
      ],
      "text/plain": [
       "q3_1 results: All test cases passed!"
      ]
     },
     "execution_count": 59,
     "metadata": {},
     "output_type": "execute_result"
    }
   ],
   "source": [
    "grader.check(\"q3_1\")"
   ]
  },
  {
   "cell_type": "markdown",
   "id": "dfd0456e",
   "metadata": {
    "deletable": false,
    "editable": false
   },
   "source": [
    "**Question 3.2.** Complete the cell below so that `avg_male_vs_female` evaluates to `True` if the sampled males are older than the sampled females on average, and `False` otherwise. Use Python code to achieve this. **(4 points)**\n",
    "\n",
    "<!--\n",
    "BEGIN QUESTION\n",
    "name: q3_2\n",
    "manual: false\n",
    "points:\n",
    " - 0\n",
    " - 4\n",
    "-->"
   ]
  },
  {
   "cell_type": "code",
   "execution_count": 60,
   "id": "2d7e4d54",
   "metadata": {},
   "outputs": [
    {
     "data": {
      "text/plain": [
       "True"
      ]
     },
     "execution_count": 60,
     "metadata": {},
     "output_type": "execute_result"
    }
   ],
   "source": [
    "group_mean_tbl = sampled_ages.group(0, np.mean)\n",
    "group_means = group_mean_tbl.column(1)      # array of mean ages\n",
    "avg_male_vs_female = group_means.item(1) > group_means.item(0)\n",
    "avg_male_vs_female"
   ]
  },
  {
   "cell_type": "code",
   "execution_count": 61,
   "id": "a98d95df",
   "metadata": {
    "deletable": false,
    "editable": false
   },
   "outputs": [
    {
     "data": {
      "text/html": [
       "<p><strong><pre style='display: inline;'>q3_2</pre></strong> passed!</p>"
      ],
      "text/plain": [
       "q3_2 results: All test cases passed!"
      ]
     },
     "execution_count": 61,
     "metadata": {},
     "output_type": "execute_result"
    }
   ],
   "source": [
    "grader.check(\"q3_2\")"
   ]
  },
  {
   "cell_type": "markdown",
   "id": "5f0ab8c9",
   "metadata": {
    "deletable": false,
    "editable": false
   },
   "source": [
    "**Question 3.3.** The data scientists want to use the data to test whether males are older than females—or, in other words, whether the ages of the two groups have the same distribution. One of the following statements is their null hypothesis and another is their alternative hypothesis. Assign `null_statement_number` and `alternative_statement_number` to the numbers of the correct statements in the code cell below. **(4 points)**\n",
    "\n",
    "1. In the sample, the males and females have the same distribution of ages; the sample averages of the two groups are different due to chance.\n",
    "2. In the population, the males and females have the same distribution of ages; the sample averages of the two groups are different due to chance.\n",
    "3. The age distributions of males and females in the population are different due to chance.\n",
    "4. The males in the sample are older than the females, on average.\n",
    "5. The males in the population are older than the females, on average.\n",
    "6. The average ages of the males and females in the population are different.\n",
    "\n",
    "<!--\n",
    "BEGIN QUESTION\n",
    "name: q3_3\n",
    "manual: false\n",
    "points:\n",
    " - 0\n",
    " - 0\n",
    " - 0\n",
    " - 0\n",
    " - 0\n",
    " - 2\n",
    " - 2\n",
    "-->"
   ]
  },
  {
   "cell_type": "code",
   "execution_count": 62,
   "id": "85f8a69d",
   "metadata": {},
   "outputs": [],
   "source": [
    "null_statement_number = 2\n",
    "alternative_statement_number = 5"
   ]
  },
  {
   "cell_type": "code",
   "execution_count": 63,
   "id": "be3d613a",
   "metadata": {
    "deletable": false,
    "editable": false
   },
   "outputs": [
    {
     "data": {
      "text/html": [
       "<p><strong><pre style='display: inline;'>q3_3</pre></strong> passed!</p>"
      ],
      "text/plain": [
       "q3_3 results: All test cases passed!"
      ]
     },
     "execution_count": 63,
     "metadata": {},
     "output_type": "execute_result"
    }
   ],
   "source": [
    "grader.check(\"q3_3\")"
   ]
  },
  {
   "cell_type": "markdown",
   "id": "1838dbcb",
   "metadata": {
    "deletable": false,
    "editable": false
   },
   "source": [
    "**Question 3.4.** The data scientists have decided to use a permutation test. Assign `permutation_test_reason` to the number corresponding to the reason they made this choice. **(4 points)**\n",
    "\n",
    "1. Since a person's age shouldn't be related to their gender, it doesn't matter who is labeled \"male\" and who is labeled \"female\", so you can use permutations.\n",
    "2. Under the null hypothesis, permuting the labels in the `sampled_ages` table is equivalent to drawing a new random sample with the same number of males and females as in the original sample.\n",
    "3. Under the null hypothesis, permuting the rows of `sampled_ages` table is equivalent to drawing a new random sample with the same number of males and females as in the original sample.\n",
    "\n",
    "<!--\n",
    "BEGIN QUESTION\n",
    "name: q3_4\n",
    "manual: false\n",
    "points:\n",
    " - 0\n",
    " - 0\n",
    " - 4\n",
    "-->"
   ]
  },
  {
   "cell_type": "code",
   "execution_count": 64,
   "id": "280b47db",
   "metadata": {},
   "outputs": [
    {
     "data": {
      "text/plain": [
       "1"
      ]
     },
     "execution_count": 64,
     "metadata": {},
     "output_type": "execute_result"
    }
   ],
   "source": [
    "permutation_test_reason = 1\n",
    "permutation_test_reason"
   ]
  },
  {
   "cell_type": "code",
   "execution_count": 65,
   "id": "e7ab55a2",
   "metadata": {
    "deletable": false,
    "editable": false
   },
   "outputs": [
    {
     "data": {
      "text/html": [
       "<p><strong><pre style='display: inline;'>q3_4</pre></strong> passed!</p>"
      ],
      "text/plain": [
       "q3_4 results: All test cases passed!"
      ]
     },
     "execution_count": 65,
     "metadata": {},
     "output_type": "execute_result"
    }
   ],
   "source": [
    "grader.check(\"q3_4\")"
   ]
  },
  {
   "cell_type": "markdown",
   "id": "44b8e1a0",
   "metadata": {
    "deletable": false,
    "editable": false
   },
   "source": [
    "**Question 3.5.** To test their hypotheses, the data scientists have followed our textbook's advice and chosen a test statistic where the following statement is true: Large values of the test statistic favor the alternative hypothesis.\n",
    "\n",
    "The data scientists' test statistic is one of the two options below. Which one is it? Assign the appropriate number to the variable `correct_test_stat`. **(4 points)**\n",
    "\n",
    "1. \"male age average - female age average\" in a sample created by randomly shuffling the male/female labels\n",
    "2. \"|male age average - female age average|\" in a sample created by randomly shuffling the male/female labels\n",
    "\n",
    "<!--\n",
    "BEGIN QUESTION\n",
    "name: q3_5\n",
    "manual: false\n",
    "points:\n",
    " - 0\n",
    " - 0\n",
    " - 4\n",
    "-->"
   ]
  },
  {
   "cell_type": "code",
   "execution_count": 66,
   "id": "05b3047d",
   "metadata": {},
   "outputs": [
    {
     "data": {
      "text/plain": [
       "2"
      ]
     },
     "execution_count": 66,
     "metadata": {},
     "output_type": "execute_result"
    }
   ],
   "source": [
    "correct_test_stat = 2\n",
    "correct_test_stat"
   ]
  },
  {
   "cell_type": "code",
   "execution_count": 67,
   "id": "18caa7e7",
   "metadata": {
    "deletable": false,
    "editable": false
   },
   "outputs": [
    {
     "data": {
      "text/html": [
       "<p><strong><pre style='display: inline;'>q3_5</pre></strong> passed!</p>"
      ],
      "text/plain": [
       "q3_5 results: All test cases passed!"
      ]
     },
     "execution_count": 67,
     "metadata": {},
     "output_type": "execute_result"
    }
   ],
   "source": [
    "grader.check(\"q3_5\")"
   ]
  },
  {
   "cell_type": "markdown",
   "id": "c2fb0aed",
   "metadata": {
    "deletable": false,
    "editable": false
   },
   "source": [
    "**Question 3.6.** Complete the cell below so that `observed_statistic_ab` evaluates to the observed value of the data scientists' test statistic. Use as many lines of code as you need, and remember that you can use any quantity, table, or array that you created earlier. **(4 points)**\n",
    "\n",
    "<!--\n",
    "BEGIN QUESTION\n",
    "name: q3_6\n",
    "manual: false\n",
    "points:\n",
    " - 0\n",
    " - 0\n",
    " - 4\n",
    "-->"
   ]
  },
  {
   "cell_type": "code",
   "execution_count": 68,
   "id": "751bfdc4",
   "metadata": {},
   "outputs": [
    {
     "data": {
      "text/plain": [
       "1.314102564102562"
      ]
     },
     "execution_count": 68,
     "metadata": {},
     "output_type": "execute_result"
    }
   ],
   "source": [
    "observed_statistic_ab = abs(group_means.item(1) - group_means.item(0))\n",
    "observed_statistic_ab"
   ]
  },
  {
   "cell_type": "code",
   "execution_count": null,
   "id": "34d3b120-d928-4199-9f37-a1097a448b67",
   "metadata": {},
   "outputs": [],
   "source": []
  },
  {
   "cell_type": "code",
   "execution_count": 69,
   "id": "f4b18caf",
   "metadata": {
    "deletable": false,
    "editable": false
   },
   "outputs": [
    {
     "data": {
      "text/html": [
       "<p><strong><pre style='display: inline;'>q3_6</pre></strong> passed!</p>"
      ],
      "text/plain": [
       "q3_6 results: All test cases passed!"
      ]
     },
     "execution_count": 69,
     "metadata": {},
     "output_type": "execute_result"
    }
   ],
   "source": [
    "grader.check(\"q3_6\")"
   ]
  },
  {
   "cell_type": "markdown",
   "id": "b57072cc",
   "metadata": {
    "deletable": false,
    "editable": false
   },
   "source": [
    "**Question 3.7.** Assign `shuffled_labels` to an array of shuffled male/female labels. The rest of the code puts the array in a table along with the data in `sampled_ages`. **(4 points)**\n",
    "\n",
    "*Note:* Check out [12.1](https://inferentialthinking.com/chapters/12/1/AB_Testing.html#predicting-the-statistic-under-the-null-hypothesis) for a refresher on random permutations.\n",
    "\n",
    "<!--\n",
    "BEGIN QUESTION\n",
    "name: q3_7\n",
    "manual: false\n",
    "points:\n",
    " - 0\n",
    " - 0\n",
    " - 0\n",
    " - 1\n",
    " - 1\n",
    " - 1\n",
    " - 1\n",
    "-->"
   ]
  },
  {
   "cell_type": "code",
   "execution_count": 70,
   "id": "de66168a",
   "metadata": {},
   "outputs": [
    {
     "data": {
      "text/html": [
       "<table border=\"1\" class=\"dataframe\">\n",
       "    <thead>\n",
       "        <tr>\n",
       "            <th>Gender</th> <th>Age</th> <th>Shuffled Label</th>\n",
       "        </tr>\n",
       "    </thead>\n",
       "    <tbody>\n",
       "        <tr>\n",
       "            <td>male  </td> <td>23  </td> <td>female        </td>\n",
       "        </tr>\n",
       "        <tr>\n",
       "            <td>male  </td> <td>29  </td> <td>male          </td>\n",
       "        </tr>\n",
       "        <tr>\n",
       "            <td>male  </td> <td>29  </td> <td>male          </td>\n",
       "        </tr>\n",
       "        <tr>\n",
       "            <td>female</td> <td>49  </td> <td>female        </td>\n",
       "        </tr>\n",
       "        <tr>\n",
       "            <td>female</td> <td>33  </td> <td>male          </td>\n",
       "        </tr>\n",
       "        <tr>\n",
       "            <td>male  </td> <td>31  </td> <td>male          </td>\n",
       "        </tr>\n",
       "        <tr>\n",
       "            <td>male  </td> <td>60  </td> <td>male          </td>\n",
       "        </tr>\n",
       "        <tr>\n",
       "            <td>male  </td> <td>38  </td> <td>male          </td>\n",
       "        </tr>\n",
       "        <tr>\n",
       "            <td>female</td> <td>60  </td> <td>male          </td>\n",
       "        </tr>\n",
       "        <tr>\n",
       "            <td>female</td> <td>27  </td> <td>female        </td>\n",
       "        </tr>\n",
       "    </tbody>\n",
       "</table>\n",
       "<p>... (490 rows omitted)</p>"
      ],
      "text/plain": [
       "Gender | Age  | Shuffled Label\n",
       "male   | 23   | female\n",
       "male   | 29   | male\n",
       "male   | 29   | male\n",
       "female | 49   | female\n",
       "female | 33   | male\n",
       "male   | 31   | male\n",
       "male   | 60   | male\n",
       "male   | 38   | male\n",
       "female | 60   | male\n",
       "female | 27   | female\n",
       "... (490 rows omitted)"
      ]
     },
     "execution_count": 70,
     "metadata": {},
     "output_type": "execute_result"
    }
   ],
   "source": [
    "shuffled_labels = sampled_ages.sample(with_replacement=False).column(0)\n",
    "original_with_shuffled_labels = sampled_ages.with_columns('Shuffled Label', shuffled_labels)\n",
    "original_with_shuffled_labels"
   ]
  },
  {
   "cell_type": "code",
   "execution_count": 71,
   "id": "565d0989",
   "metadata": {
    "deletable": false,
    "editable": false
   },
   "outputs": [
    {
     "data": {
      "text/html": [
       "<p><strong><pre style='display: inline;'>q3_7</pre></strong> passed!</p>"
      ],
      "text/plain": [
       "q3_7 results: All test cases passed!"
      ]
     },
     "execution_count": 71,
     "metadata": {},
     "output_type": "execute_result"
    }
   ],
   "source": [
    "grader.check(\"q3_7\")"
   ]
  },
  {
   "cell_type": "code",
   "execution_count": 72,
   "id": "010fbc6a-2d5e-417f-8c0e-6f20c2d09eb9",
   "metadata": {},
   "outputs": [
    {
     "data": {
      "text/plain": [
       "True"
      ]
     },
     "execution_count": 72,
     "metadata": {},
     "output_type": "execute_result"
    }
   ],
   "source": [
    "np.count_nonzero(shuffled_labels == 'female') == num_females"
   ]
  },
  {
   "cell_type": "markdown",
   "id": "1f122295",
   "metadata": {
    "deletable": false,
    "editable": false
   },
   "source": [
    "**Question 3.8.** The comparison below uses the array `shuffled_labels` from Question 3.7 and the count `num_females` from Question 3.1.\n",
    "\n",
    "For this comparison, assign the correct number from one of the following options to the variable `correct_q8`. **Pretend this is a midterm problem and solve it without doing the calculation in a code cell.** **(4 points)**\n",
    "\n",
    "`comp = np.count_nonzero(shuffled_labels == 'female') == num_females`\n",
    "\n",
    "1. `comp` is set to `True`.\n",
    "2. `comp` is set to `False`.\n",
    "3. `comp` is set to `True` or `False`, depending on how the shuffle came out.\n",
    "\n",
    "<!--\n",
    "BEGIN QUESTION\n",
    "name: q3_8\n",
    "manual: false\n",
    "points:\n",
    " - 0\n",
    " - 0\n",
    " - 4\n",
    "-->"
   ]
  },
  {
   "cell_type": "code",
   "execution_count": 73,
   "id": "211a5e7f",
   "metadata": {},
   "outputs": [
    {
     "data": {
      "text/plain": [
       "1"
      ]
     },
     "execution_count": 73,
     "metadata": {},
     "output_type": "execute_result"
    }
   ],
   "source": [
    "correct_q8 = 1\n",
    "correct_q8"
   ]
  },
  {
   "cell_type": "code",
   "execution_count": 74,
   "id": "ca34a4da",
   "metadata": {
    "deletable": false,
    "editable": false
   },
   "outputs": [
    {
     "data": {
      "text/html": [
       "<p><strong><pre style='display: inline;'>q3_8</pre></strong> passed!</p>"
      ],
      "text/plain": [
       "q3_8 results: All test cases passed!"
      ]
     },
     "execution_count": 74,
     "metadata": {},
     "output_type": "execute_result"
    }
   ],
   "source": [
    "grader.check(\"q3_8\")"
   ]
  },
  {
   "cell_type": "markdown",
   "id": "91dbce31",
   "metadata": {
    "deletable": false,
    "editable": false
   },
   "source": [
    "**Question 3.9.** Define a function `simulate_one_statistic` that takes no arguments and returns one simulated value of the test statistic. We've given you a skeleton, but feel free to approach this question in a way that makes sense to you. Use as many lines of code as you need. Refer to the code you have previously written in this problem, as you might be able to re-use some of it. **(4 points)**\n",
    "\n",
    "<!--\n",
    "BEGIN QUESTION\n",
    "name: q3_9\n",
    "manual: false\n",
    "points:\n",
    " - 4\n",
    "-->"
   ]
  },
  {
   "cell_type": "code",
   "execution_count": 75,
   "id": "e7fc951d",
   "metadata": {},
   "outputs": [
    {
     "data": {
      "text/plain": [
       "1.015656362906462"
      ]
     },
     "execution_count": 75,
     "metadata": {},
     "output_type": "execute_result"
    }
   ],
   "source": [
    "def simulate_one_statistic():\n",
    "    \"Returns one value of our simulated test statistic\"\n",
    "    shuffled_labels = sampled_ages.sample(with_replacement=True).column(0)\n",
    "    shuffled_tbl = sampled_ages.with_column('Shuffled Label', shuffled_labels)\n",
    "    group_means = shuffled_tbl.drop(0).group('Shuffled Label', np.mean).column(1)\n",
    "    return group_means.item(0) - group_means.item(1)\n",
    "simulate_one_statistic()"
   ]
  },
  {
   "cell_type": "code",
   "execution_count": 76,
   "id": "d5e4b455",
   "metadata": {
    "deletable": false,
    "editable": false
   },
   "outputs": [
    {
     "data": {
      "text/html": [
       "<p><strong><pre style='display: inline;'>q3_9</pre></strong> passed!</p>"
      ],
      "text/plain": [
       "q3_9 results: All test cases passed!"
      ]
     },
     "execution_count": 76,
     "metadata": {},
     "output_type": "execute_result"
    }
   ],
   "source": [
    "grader.check(\"q3_9\")"
   ]
  },
  {
   "cell_type": "markdown",
   "id": "354259f3",
   "metadata": {},
   "source": [
    "After you have defined your function, run the following cell a few times to see how the statistic varies."
   ]
  },
  {
   "cell_type": "code",
   "execution_count": 77,
   "id": "6c01b482",
   "metadata": {},
   "outputs": [
    {
     "data": {
      "text/plain": [
       "0.5162064825930344"
      ]
     },
     "execution_count": 77,
     "metadata": {},
     "output_type": "execute_result"
    }
   ],
   "source": [
    "simulate_one_statistic()"
   ]
  },
  {
   "cell_type": "markdown",
   "id": "7bd70846",
   "metadata": {
    "deletable": false,
    "editable": false
   },
   "source": [
    "**Question 3.10.** Complete the cell to simulate 4,000 values of the statistic. We have included the code that draws the empirical distribution of the statistic and shows the value of `observed_statistic_ab` from Question 3.6. Feel free to use as many lines of code as you need. **(4 points)**\n",
    "\n",
    "*Note:* This cell will take around a minute to run.\n",
    "\n",
    "<!--\n",
    "BEGIN QUESTION\n",
    "name: q3_10\n",
    "manual: false\n",
    "points:\n",
    " - 4\n",
    "-->"
   ]
  },
  {
   "cell_type": "code",
   "execution_count": null,
   "id": "e997ee40",
   "metadata": {
    "scrolled": true
   },
   "outputs": [],
   "source": [
    "repetitions = 4000\n",
    "\n",
    "simulated_statistics_ab = make_array()\n",
    "for _ in np.arange(repetitions):\n",
    "    simulated_statistics_ab = np.append(simulated_statistics_ab, simulate_one_statistic())\n",
    "    \n",
    "\n",
    "# Do not change these lines\n",
    "Table().with_columns('Simulated Statistic', simulated_statistics_ab).hist()\n",
    "plt.scatter(observed_statistic_ab, -0.002, color='red', s=70);"
   ]
  },
  {
   "cell_type": "code",
   "execution_count": null,
   "id": "af42288e",
   "metadata": {
    "deletable": false,
    "editable": false
   },
   "outputs": [],
   "source": [
    "grader.check(\"q3_10\")"
   ]
  },
  {
   "cell_type": "markdown",
   "id": "7abcec1f",
   "metadata": {
    "deletable": false,
    "editable": false
   },
   "source": [
    "**Question 3.11.** Use the simulation to find an empirical approximation to the p-value. Assign `p_val` to the appropriate p-value from this simulation. Then, assign `conclusion` to either `null_hyp` or `alt_hyp`. **(4 points)** \n",
    "\n",
    "*Note:* Assume that we use the 5% cutoff for the p-value.\n",
    "\n",
    "<!--\n",
    "BEGIN QUESTION\n",
    "name: q3_11\n",
    "manual: false\n",
    "points:\n",
    " - 0\n",
    " - 0\n",
    " - 0\n",
    " - 2\n",
    " - 2\n",
    "-->"
   ]
  },
  {
   "cell_type": "code",
   "execution_count": null,
   "id": "095c35e6",
   "metadata": {},
   "outputs": [],
   "source": [
    "# These are variables provided for you to use.\n",
    "null_hyp = 'The data are consistent with the null hypothesis.'\n",
    "alt_hyp = 'The data support the alternative more than the null.'\n",
    "\n",
    "p_val = (np.count_nonzero(simulated_statistics >= \n",
    "                          observed_statistic)/repetitions)\n",
    "conclusion = null_hyp\n",
    "\n",
    "p_val, conclusion # Do not change this line"
   ]
  },
  {
   "cell_type": "code",
   "execution_count": null,
   "id": "7d3a1308",
   "metadata": {
    "deletable": false,
    "editable": false
   },
   "outputs": [],
   "source": [
    "grader.check(\"q3_11\")"
   ]
  },
  {
   "cell_type": "markdown",
   "id": "02ecd2f3",
   "metadata": {},
   "source": [
    "You're done with Homework 7!  \n",
    "\n",
    "**Important submission steps:** \n",
    "1. Run the tests and verify that they all pass.\n",
    "2. Choose **Save Notebook** from the **File** menu, then **run the final cell**. \n",
    "3. Click the link to download the zip file.\n",
    "4. Go to [Gradescope](https://www.gradescope.com/courses/349879) and submit the zip file to the corresponding assignment. The name of this assignment is \"HW 07 Autograder\". \n",
    "\n",
    "**It is your responsibility to make sure your work is saved before running the last cell.**"
   ]
  },
  {
   "cell_type": "markdown",
   "id": "355ebd23",
   "metadata": {
    "deletable": false,
    "editable": false
   },
   "source": [
    "---\n",
    "\n",
    "To double-check your work, the cell below will rerun all of the autograder tests."
   ]
  },
  {
   "cell_type": "code",
   "execution_count": null,
   "id": "2526c402",
   "metadata": {
    "deletable": false,
    "editable": false
   },
   "outputs": [],
   "source": [
    "grader.check_all()"
   ]
  },
  {
   "cell_type": "markdown",
   "id": "63afc30f",
   "metadata": {
    "deletable": false,
    "editable": false
   },
   "source": [
    "## Submission\n",
    "\n",
    "Make sure you have run all cells in your notebook in order before running the cell below, so that all images/graphs appear in the output. The cell below will generate a zip file for you to submit. **Please save before exporting!**"
   ]
  },
  {
   "cell_type": "code",
   "execution_count": null,
   "id": "313759a1",
   "metadata": {
    "deletable": false,
    "editable": false
   },
   "outputs": [],
   "source": [
    "# Save your notebook first, then run this cell to export your submission.\n",
    "grader.export(pdf=False)"
   ]
  },
  {
   "cell_type": "markdown",
   "id": "ee40ad23",
   "metadata": {},
   "source": [
    " "
   ]
  }
 ],
 "metadata": {
  "kernelspec": {
   "display_name": "Python 3 (ipykernel)",
   "language": "python",
   "name": "python3"
  },
  "language_info": {
   "codemirror_mode": {
    "name": "ipython",
    "version": 3
   },
   "file_extension": ".py",
   "mimetype": "text/x-python",
   "name": "python",
   "nbconvert_exporter": "python",
   "pygments_lexer": "ipython3",
   "version": "3.9.10"
  }
 },
 "nbformat": 4,
 "nbformat_minor": 5
}
